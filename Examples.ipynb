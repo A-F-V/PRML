{
 "cells": [
  {
   "cell_type": "code",
   "execution_count": 1,
   "source": [
    "%matplotlib qt\r\n",
    "# qt for interactive pop up"
   ],
   "outputs": [],
   "metadata": {}
  },
  {
   "cell_type": "code",
   "execution_count": 2,
   "source": [
    "import matplotlib.pyplot as plt\r\n",
    "import numpy as np\r\n",
    "import matplotlib.animation as animation\r\n",
    "from IPython.display import Video"
   ],
   "outputs": [],
   "metadata": {}
  },
  {
   "cell_type": "code",
   "execution_count": 15,
   "source": [
    "# ANIMATION EXAMPLE\r\n",
    "X = np.linspace(0,7,50)\r\n",
    "fig,ax = plt.subplots(figsize=(20,20))\r\n",
    "ax.axis(xmin = 0,xmax=7,ymin = -1,ymax = 1)\r\n",
    "ax, = ax.plot([],[],linewidth=5)\r\n",
    "\r\n",
    "def init():\r\n",
    "    return animate(0)\r\n",
    "\r\n",
    "def animate(i):\r\n",
    "    Y = np.sin(X)*np.sin(i/100)\r\n",
    "    ax.set_data(X,Y)\r\n",
    "    return ax,\r\n",
    "\r\n",
    "ani = animation.FuncAnimation(fig, animate, frames=100,\r\n",
    "                              interval=1, blit=True, init_func=init)\r\n",
    "ani.save(\"videos/wobble.mp4\", fps=30, extra_args=['-vcodec', 'libx264'])"
   ],
   "outputs": [],
   "metadata": {}
  },
  {
   "cell_type": "code",
   "execution_count": 16,
   "source": [
    "Video(\"videos/wobble.mp4\",height=300,width=600)"
   ],
   "outputs": [
    {
     "output_type": "execute_result",
     "data": {
      "text/plain": [
       "<IPython.core.display.Video object>"
      ],
      "text/html": [
       "<video src=\"videos/wobble.mp4\" controls  width=\"600\"  height=\"300\">\n",
       "      Your browser does not support the <code>video</code> element.\n",
       "    </video>"
      ]
     },
     "metadata": {},
     "execution_count": 16
    }
   ],
   "metadata": {}
  },
  {
   "cell_type": "code",
   "execution_count": null,
   "source": [],
   "outputs": [],
   "metadata": {}
  },
  {
   "cell_type": "code",
   "execution_count": null,
   "source": [],
   "outputs": [],
   "metadata": {}
  }
 ],
 "metadata": {
  "orig_nbformat": 4,
  "language_info": {
   "name": "python"
  }
 },
 "nbformat": 4,
 "nbformat_minor": 2
}